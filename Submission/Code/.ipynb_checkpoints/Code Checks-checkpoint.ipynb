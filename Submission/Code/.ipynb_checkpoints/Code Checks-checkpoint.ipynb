{
 "cells": [
  {
   "cell_type": "code",
   "execution_count": null,
   "metadata": {
    "collapsed": false
   },
   "outputs": [],
   "source": [
    "from mySpark import RDD\n",
    "from mySpark import SparkContext\n",
    "import numpy as np\n",
    "\n",
    "# Assuming you are running local_run_me.py from the Submission/Code directory.\n",
    "#Do not change path to data\n",
    "\n",
    "SC  = SparkContext()\n",
    "np.random.seed(0)\n",
    "\n",
    "X   = np.hstack((np.random.randint(0,5,(100,1)),np.random.rand(100,1),np.random.randn(100,1)))\n",
    "rdd = SC.parallelize(X) \n",
    "rdd.reduce(lambda x,y:x+y)"
   ]
  },
  {
   "cell_type": "code",
   "execution_count": 1,
   "metadata": {
    "collapsed": false
   },
   "outputs": [
    {
     "name": "stdout",
     "output_type": "stream",
     "text": [
      "Count: 100.0\n",
      "Mean: [ 1.96        0.50609211 -0.13690555]\n",
      "Std: [ 1.43471251  0.28279661  1.02037807]\n",
      "Dot: 102.819881289\n",
      "Corr: 0.0893651347913\n",
      "Distribution: [ 0.22  0.2   0.17  0.22  0.19]\n"
     ]
    }
   ],
   "source": [
    "from mySpark import RDD\n",
    "from mySpark import SparkContext\n",
    "import numpy as np\n",
    "import warmup\n",
    "\n",
    "# Assuming you are running local_run_me.py from the Submission/Code directory.\n",
    "#Do not change path to data\n",
    "\n",
    "SC  = SparkContext()\n",
    "np.random.seed(0)\n",
    "\n",
    "X   = np.hstack((np.random.randint(0,5,(100,1)),np.random.rand(100,1),np.random.randn(100,1)))\n",
    "rdd1 = SC.parallelize(X) \n",
    "\n",
    "print \"Count:\", warmup.count(rdd1)\n",
    "\n",
    "print \"Mean:\", warmup.mean(rdd1)\n",
    "\n",
    "print \"Std:\", warmup.std(rdd1)\n",
    "\n",
    "print \"Dot:\", warmup.dot(rdd1)\n",
    "\n",
    "print \"Corr:\", warmup.corr(rdd1)\n",
    "\n",
    "rdd2 = rdd1.map(lambda x: x[0])\n",
    "print \"Distribution:\", warmup.distribution(rdd2)\n"
   ]
  },
  {
   "cell_type": "code",
   "execution_count": 2,
   "metadata": {
    "collapsed": false
   },
   "outputs": [
    {
     "name": "stdout",
     "output_type": "stream",
     "text": [
      "Count: 100\n",
      "Mean: [ 1.96        0.50609211 -0.13690555]\n",
      "Std: [ 1.43471251  0.28279661  1.02037807]\n",
      "Dot: 102.819881289\n",
      "Corr: 0.0893651347913\n",
      "Distribution: [ 22.  20.  17.  22.  19.]\n"
     ]
    }
   ],
   "source": [
    "from scipy.stats import pearsonr as corr\n",
    "\n",
    "print \"Count:\", X.shape[0]\n",
    "\n",
    "print \"Mean:\", np.mean(X,axis=0)\n",
    "\n",
    "print \"Std:\", np.std(X,axis=0)\n",
    "\n",
    "print \"Dot:\", np.sum(X[:,0]*X[:,1])\n",
    "\n",
    "print \"Corr:\", corr(X[:,0],X[:,1])[0]\n",
    "\n",
    "Ks=np.unique(X[:,0])\n",
    "p=np.zeros(len(Ks))\n",
    "for k in Ks:\n",
    "    p[int(k)]=np.sum(X[:,0]==k)\n",
    "\n",
    "print \"Distribution:\", p"
   ]
  },
  {
   "cell_type": "code",
   "execution_count": 4,
   "metadata": {
    "collapsed": false
   },
   "outputs": [],
   "source": [
    "path = '../../Data/movielens/'\n",
    "train = np.loadtxt(path + 'train_data.csv', delimiter = ',')\n",
    "test = np.loadtxt(path + 'test_data.csv', delimiter = ',')\n",
    "rdd_tr = SC.parallelize(train)\n",
    "rdd_te = SC.parallelize(test)"
   ]
  },
  {
   "cell_type": "code",
   "execution_count": 19,
   "metadata": {
    "collapsed": false
   },
   "outputs": [],
   "source": [
    "x=rdd_tr.take(1)[0]"
   ]
  },
  {
   "cell_type": "code",
   "execution_count": 23,
   "metadata": {
    "collapsed": false
   },
   "outputs": [
    {
     "data": {
      "text/plain": [
       "array([ 2.458715,  3.003385,  1.829135,  1.72375 , -0.20958 ,  0.853265,\n",
       "        0.92729 ,  2.498755,  3.19214 ,  2.32225 ,  1.38159 ,  0.683585,\n",
       "        1.49443 ,  1.148875,  2.34528 ,  0.77497 ,  0.278775,  3.13572 ,\n",
       "        0.777945,  2.65384 ,  0.      ,  3.5     ,  3.5     ,  3.5     ,\n",
       "        3.5     ,  0.      ,  0.      ,  0.      ,  3.5     ,  0.      ,\n",
       "        0.      ,  0.      ,  0.      ,  0.      ,  0.      ,  0.      ,\n",
       "        0.      ,  0.      ,  0.      ,  0.      ,  3.5     ])"
      ]
     },
     "execution_count": 23,
     "metadata": {},
     "output_type": "execute_result"
    }
   ],
   "source": [
    "np.append(x[:-1],1)*x[-1]"
   ]
  },
  {
   "cell_type": "code",
   "execution_count": 22,
   "metadata": {
    "collapsed": false
   },
   "outputs": [
    {
     "data": {
      "text/plain": [
       "3.5"
      ]
     },
     "execution_count": 22,
     "metadata": {},
     "output_type": "execute_result"
    }
   ],
   "source": [
    "x[-1]"
   ]
  },
  {
   "cell_type": "code",
   "execution_count": 26,
   "metadata": {
    "collapsed": false
   },
   "outputs": [
    {
     "name": "stdout",
     "output_type": "stream",
     "text": [
      "Question 2:\n",
      "2.1 computeXY:"
     ]
    },
    {
     "ename": "NameError",
     "evalue": "name 'computeXY' is not defined",
     "output_type": "error",
     "traceback": [
      "\u001b[0;31m---------------------------------------------------------------------------\u001b[0m",
      "\u001b[0;31mNameError\u001b[0m                                 Traceback (most recent call last)",
      "\u001b[0;32m<ipython-input-26-1898dd4cf713>\u001b[0m in \u001b[0;36m<module>\u001b[0;34m()\u001b[0m\n\u001b[1;32m      7\u001b[0m \u001b[0;32mprint\u001b[0m \u001b[0;34m\"Question 2:\"\u001b[0m\u001b[0;34m\u001b[0m\u001b[0m\n\u001b[1;32m      8\u001b[0m \u001b[0;34m\u001b[0m\u001b[0m\n\u001b[0;32m----> 9\u001b[0;31m \u001b[0;32mprint\u001b[0m \u001b[0;34m\"2.1 computeXY:\"\u001b[0m\u001b[0;34m,\u001b[0m \u001b[0mcomputeXY\u001b[0m\u001b[0;34m(\u001b[0m\u001b[0mrdd_tr\u001b[0m\u001b[0;34m)\u001b[0m\u001b[0;34m\u001b[0m\u001b[0m\n\u001b[0m\u001b[1;32m     10\u001b[0m \u001b[0;34m\u001b[0m\u001b[0m\n\u001b[1;32m     11\u001b[0m \u001b[0;32mprint\u001b[0m \u001b[0;34m\"2.2 computeXX:\"\u001b[0m\u001b[0;34m,\u001b[0m \u001b[0mcomputeXX\u001b[0m\u001b[0;34m(\u001b[0m\u001b[0mrdd_tr\u001b[0m\u001b[0;34m)\u001b[0m\u001b[0;34m\u001b[0m\u001b[0m\n",
      "\u001b[0;31mNameError\u001b[0m: name 'computeXY' is not defined"
     ]
    }
   ],
   "source": [
    "path = '../../Data/movielens/'\n",
    "train = np.loadtxt(path + 'train_data.csv', delimiter = ',')\n",
    "test = np.loadtxt(path + 'test_data.csv', delimiter = ',')\n",
    "rdd_tr = SC.parallelize(train)\n",
    "rdd_te = SC.parallelize(test)\n",
    "\n",
    "print \"Question 2:\"\n",
    "\n",
    "print \"2.1 computeXY:\", computeXY(rdd_tr)  \n",
    "\n",
    "print \"2.2 computeXX:\", computeXX(rdd_tr)\n",
    "\n",
    "w=computeWeights(rdd_tr)\n",
    "print \"2.3 computeWeights:\", w \n",
    "\n",
    "print \"2.4 computePredictions:\", computePredictions(w,rdd_te)\n",
    "\n",
    "print \"2.5 computeError:\", computeError(w,rdd_te)"
   ]
  },
  {
   "cell_type": "code",
   "execution_count": 1,
   "metadata": {
    "collapsed": false
   },
   "outputs": [
    {
     "name": "stdout",
     "output_type": "stream",
     "text": [
      "Question 2:\n",
      "2.1 computeXY: [  9.81144087e+03   9.79633802e+03   1.13078526e+04   1.18357934e+04\n",
      "   1.04276708e+04   9.50977414e+03   1.28868365e+04   1.21157867e+04\n",
      "   1.33711740e+04   1.38532944e+04   1.14913713e+04   1.18938630e+04\n",
      "   1.10398059e+04   9.29270043e+03   1.18135043e+04   1.17953696e+04\n",
      "   1.27374064e+04   1.21489594e+04   8.63228698e+03   1.25973448e+04\n",
      "   7.45200000e+03   5.77900000e+03   1.43050000e+03   1.94950000e+03\n",
      "   9.50250000e+03   4.77400000e+03   2.93500000e+02   1.25200000e+04\n",
      "   2.86650000e+03   3.11500000e+02   1.59400000e+03   1.13400000e+03\n",
      "   2.18000000e+03   5.19000000e+03   4.26950000e+03   7.07850000e+03\n",
      "   1.52000000e+03   4.92500000e+02   6.45500000e+02  -3.68298520e+00\n",
      "   2.63445000e+04]\n",
      "2.2 computeXX: [[  1.31878663e+03   1.08534096e+03   1.17415974e+03 ...,   7.70669400e+01\n",
      "   -5.23638024e-01   2.69937514e+03]\n",
      " [  1.08534096e+03   1.51251341e+03   1.27592926e+03 ...,   6.27081300e+01\n",
      "   -4.36793865e-01   2.70704939e+03]\n",
      " [  1.17415974e+03   1.27592926e+03   1.67423705e+03 ...,   7.40769900e+01\n",
      "   -6.51547236e-01   3.15923479e+03]\n",
      " ..., \n",
      " [  7.70669400e+01   6.27081300e+01   7.40769900e+01 ...,   1.74000000e+02\n",
      "    1.86522696e-01   1.74000000e+02]\n",
      " [ -5.23638024e-01  -4.36793865e-01  -6.51547236e-01 ...,   1.86522696e-01\n",
      "    7.13350249e-01  -1.03502498e+00]\n",
      " [  2.69937514e+03   2.70704939e+03   3.15923479e+03 ...,   1.74000000e+02\n",
      "   -1.03502498e+00   7.32100000e+03]]\n",
      "2.3 computeWeights: [ 0.43525355 -0.03169244 -0.16478479  0.70020618  0.3588884   0.0676523\n",
      "  0.2939079   0.28431883 -0.0156005   0.13968479  0.135101    0.23216551\n",
      "  0.61705654  0.20080456  0.04996303  0.37613242  0.1667712   0.61616247\n",
      "  0.22550958  0.34233823 -0.14586169  0.09010295  0.36825302 -0.38739777\n",
      " -0.1015484   0.22697934  0.40526513  0.19912294  0.02691288  0.11090419\n",
      " -0.14154936  0.02832984  0.08059646 -0.04540892  0.02101337 -0.09280537\n",
      "  0.13715219 -0.17594669 -0.01731868  0.41231086  1.39801984]\n",
      "2.4 computePredictions: <mySpark.RDD instance at 0x1051aa128>\n",
      "2.5 computeError: 0.822967593637\n"
     ]
    }
   ],
   "source": [
    "import ols\n",
    "from mySpark import RDD\n",
    "from mySpark import SparkContext\n",
    "import numpy as np\n",
    "SC  = SparkContext()\n",
    "np.random.seed(0)\n",
    "\n",
    "path = '../../Data/movielens/'\n",
    "train = np.loadtxt(path + 'train_data.csv', delimiter = ',')\n",
    "train[:,-2] = np.random.randn(train.shape[0])/100.0\n",
    "test = np.loadtxt(path + 'test_data.csv', delimiter = ',')\n",
    "rdd_tr = SC.parallelize(train)\n",
    "rdd_te = SC.parallelize(test)\n",
    "\n",
    "print \"Question 2:\"\n",
    "\n",
    "print \"2.1 computeXY:\", ols.computeXY(rdd_tr)  \n",
    "\n",
    "XX=ols.computeXX(rdd_tr)\n",
    "print \"2.2 computeXX:\", ols.computeXX(rdd_tr)\n",
    "\n",
    "w=ols.computeWeights(rdd_tr)\n",
    "print \"2.3 computeWeights:\", w \n",
    "\n",
    "print \"2.4 computePredictions:\", ols.computePredictions(w,rdd_te)\n",
    "\n",
    "print \"2.5 computeError:\", ols.computeError(w,rdd_te)"
   ]
  },
  {
   "cell_type": "code",
   "execution_count": 16,
   "metadata": {
    "collapsed": false
   },
   "outputs": [
    {
     "data": {
      "text/plain": [
       "array([ 0.,  0.,  0., ...,  0.,  0.,  0.])"
      ]
     },
     "execution_count": 16,
     "metadata": {},
     "output_type": "execute_result"
    }
   ],
   "source": [
    "train[:,-2]"
   ]
  },
  {
   "cell_type": "code",
   "execution_count": 2,
   "metadata": {
    "collapsed": false
   },
   "outputs": [
    {
     "name": "stdout",
     "output_type": "stream",
     "text": [
      "Movielens: (7321, 40) (7321,) (6845, 40) (6845,)\n",
      "MAE Sandbox (OLS) = 0.8230\n"
     ]
    }
   ],
   "source": [
    "import time\n",
    "import numpy as np\n",
    "from sklearn.linear_model import LinearRegression\n",
    "from sklearn.metrics import mean_absolute_error\n",
    "\n",
    "train_x = train[:, 0:-1]\n",
    "train_y = train[:, -1]\n",
    "test_x = test[:, 0:-1]\n",
    "test_y = test[:, -1]\n",
    "print \"Movielens:\", train_x.shape, train_y.shape, test_x.shape, test_y.shape \n",
    "\n",
    "clf = LinearRegression()\n",
    "y_pred = clf.fit(train_x, train_y).predict(test_x)\n",
    "rmse = mean_absolute_error(test_y, y_pred)\n",
    "print \"MAE Sandbox (OLS) = %0.4f\" % (rmse)"
   ]
  },
  {
   "cell_type": "code",
   "execution_count": 3,
   "metadata": {
    "collapsed": false
   },
   "outputs": [
    {
     "data": {
      "text/plain": [
       "(6845, 41)"
      ]
     },
     "execution_count": 3,
     "metadata": {},
     "output_type": "execute_result"
    }
   ],
   "source": [
    "test.shape"
   ]
  },
  {
   "cell_type": "code",
   "execution_count": null,
   "metadata": {
    "collapsed": true
   },
   "outputs": [],
   "source": []
  }
 ],
 "metadata": {
  "anaconda-cloud": {},
  "kernelspec": {
   "display_name": "Python [default]",
   "language": "python",
   "name": "python2"
  },
  "language_info": {
   "codemirror_mode": {
    "name": "ipython",
    "version": 2
   },
   "file_extension": ".py",
   "mimetype": "text/x-python",
   "name": "python",
   "nbconvert_exporter": "python",
   "pygments_lexer": "ipython2",
   "version": "2.7.12"
  }
 },
 "nbformat": 4,
 "nbformat_minor": 1
}
